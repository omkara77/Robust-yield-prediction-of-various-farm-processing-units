{
 "cells": [
  {
   "cell_type": "code",
   "execution_count": 0,
   "metadata": {
    "colab": {
     "base_uri": "https://localhost:8080/",
     "height": 34
    },
    "colab_type": "code",
    "id": "jBdbnJVHAYXA",
    "outputId": "4e2c7a6d-91d7-4b2f-c0c5-e5cc131f72a7"
   },
   "outputs": [
    {
     "name": "stdout",
     "output_type": "stream",
     "text": [
      "Drive already mounted at /content/drive; to attempt to forcibly remount, call drive.mount(\"/content/drive\", force_remount=True).\n"
     ]
    }
   ],
   "source": [
    "from google.colab import drive\n",
    "drive.mount('/content/drive')"
   ]
  },
  {
   "cell_type": "markdown",
   "metadata": {
    "colab_type": "text",
    "id": "8HSmfIA0Rz0t"
   },
   "source": [
    "# Load the libraries"
   ]
  },
  {
   "cell_type": "code",
   "execution_count": 0,
   "metadata": {
    "colab": {
     "base_uri": "https://localhost:8080/",
     "height": 255
    },
    "colab_type": "code",
    "id": "_qNroXmAQgjB",
    "outputId": "5afc8f95-d054-4047-b520-ca778db4771a"
   },
   "outputs": [
    {
     "name": "stdout",
     "output_type": "stream",
     "text": [
      "Requirement already satisfied: missingno in /usr/local/lib/python3.6/dist-packages (0.4.2)\n",
      "Requirement already satisfied: matplotlib in /usr/local/lib/python3.6/dist-packages (from missingno) (3.1.2)\n",
      "Requirement already satisfied: seaborn in /usr/local/lib/python3.6/dist-packages (from missingno) (0.9.0)\n",
      "Requirement already satisfied: scipy in /usr/local/lib/python3.6/dist-packages (from missingno) (1.4.1)\n",
      "Requirement already satisfied: numpy in /usr/local/lib/python3.6/dist-packages (from missingno) (1.17.5)\n",
      "Requirement already satisfied: kiwisolver>=1.0.1 in /usr/local/lib/python3.6/dist-packages (from matplotlib->missingno) (1.1.0)\n",
      "Requirement already satisfied: python-dateutil>=2.1 in /usr/local/lib/python3.6/dist-packages (from matplotlib->missingno) (2.6.1)\n",
      "Requirement already satisfied: cycler>=0.10 in /usr/local/lib/python3.6/dist-packages (from matplotlib->missingno) (0.10.0)\n",
      "Requirement already satisfied: pyparsing!=2.0.4,!=2.1.2,!=2.1.6,>=2.0.1 in /usr/local/lib/python3.6/dist-packages (from matplotlib->missingno) (2.4.6)\n",
      "Requirement already satisfied: pandas>=0.15.2 in /usr/local/lib/python3.6/dist-packages (from seaborn->missingno) (0.25.3)\n",
      "Requirement already satisfied: setuptools in /usr/local/lib/python3.6/dist-packages (from kiwisolver>=1.0.1->matplotlib->missingno) (42.0.2)\n",
      "Requirement already satisfied: six>=1.5 in /usr/local/lib/python3.6/dist-packages (from python-dateutil>=2.1->matplotlib->missingno) (1.12.0)\n",
      "Requirement already satisfied: pytz>=2017.2 in /usr/local/lib/python3.6/dist-packages (from pandas>=0.15.2->seaborn->missingno) (2018.9)\n"
     ]
    }
   ],
   "source": [
    "import pandas as pd\n",
    "import matplotlib.pyplot as plt\n",
    "import seaborn as sns\n",
    "\n",
    "!pip install missingno\n",
    "import missingno as mn\n",
    "import numpy as np"
   ]
  },
  {
   "cell_type": "markdown",
   "metadata": {
    "colab_type": "text",
    "id": "HBzY4bR2ROUZ"
   },
   "source": [
    "# Load Data"
   ]
  },
  {
   "cell_type": "code",
   "execution_count": 0,
   "metadata": {
    "colab": {},
    "colab_type": "code",
    "id": "yF8cFiB1Ay-w"
   },
   "outputs": [],
   "source": [
    "tr= pd.read_csv('/content/drive/My Drive/Colab Notebooks/PHD/train_data.csv')"
   ]
  },
  {
   "cell_type": "code",
   "execution_count": 0,
   "metadata": {
    "colab": {
     "base_uri": "https://localhost:8080/",
     "height": 195
    },
    "colab_type": "code",
    "id": "M6tLBvylBIeN",
    "outputId": "3b492a35-f415-4096-9a19-fbe6513ccfb4"
   },
   "outputs": [
    {
     "data": {
      "text/html": [
       "<div>\n",
       "<style scoped>\n",
       "    .dataframe tbody tr th:only-of-type {\n",
       "        vertical-align: middle;\n",
       "    }\n",
       "\n",
       "    .dataframe tbody tr th {\n",
       "        vertical-align: top;\n",
       "    }\n",
       "\n",
       "    .dataframe thead th {\n",
       "        text-align: right;\n",
       "    }\n",
       "</style>\n",
       "<table border=\"1\" class=\"dataframe\">\n",
       "  <thead>\n",
       "    <tr style=\"text-align: right;\">\n",
       "      <th></th>\n",
       "      <th>date</th>\n",
       "      <th>farm_id</th>\n",
       "      <th>ingredient_type</th>\n",
       "      <th>yield</th>\n",
       "    </tr>\n",
       "  </thead>\n",
       "  <tbody>\n",
       "    <tr>\n",
       "      <th>0</th>\n",
       "      <td>2016-01-01 00:00:00</td>\n",
       "      <td>fid_110884</td>\n",
       "      <td>ing_w</td>\n",
       "      <td>0.0</td>\n",
       "    </tr>\n",
       "    <tr>\n",
       "      <th>1</th>\n",
       "      <td>2016-01-01 00:00:00</td>\n",
       "      <td>fid_90053</td>\n",
       "      <td>ing_w</td>\n",
       "      <td>0.0</td>\n",
       "    </tr>\n",
       "    <tr>\n",
       "      <th>2</th>\n",
       "      <td>2016-01-01 00:00:00</td>\n",
       "      <td>fid_17537</td>\n",
       "      <td>ing_w</td>\n",
       "      <td>0.0</td>\n",
       "    </tr>\n",
       "    <tr>\n",
       "      <th>3</th>\n",
       "      <td>2016-01-01 00:00:00</td>\n",
       "      <td>fid_110392</td>\n",
       "      <td>ing_w</td>\n",
       "      <td>0.0</td>\n",
       "    </tr>\n",
       "    <tr>\n",
       "      <th>4</th>\n",
       "      <td>2016-01-01 00:00:00</td>\n",
       "      <td>fid_62402</td>\n",
       "      <td>ing_w</td>\n",
       "      <td>0.0</td>\n",
       "    </tr>\n",
       "  </tbody>\n",
       "</table>\n",
       "</div>"
      ],
      "text/plain": [
       "                  date     farm_id ingredient_type  yield\n",
       "0  2016-01-01 00:00:00  fid_110884           ing_w    0.0\n",
       "1  2016-01-01 00:00:00   fid_90053           ing_w    0.0\n",
       "2  2016-01-01 00:00:00   fid_17537           ing_w    0.0\n",
       "3  2016-01-01 00:00:00  fid_110392           ing_w    0.0\n",
       "4  2016-01-01 00:00:00   fid_62402           ing_w    0.0"
      ]
     },
     "execution_count": 5,
     "metadata": {
      "tags": []
     },
     "output_type": "execute_result"
    }
   ],
   "source": [
    "tr.head()"
   ]
  },
  {
   "cell_type": "code",
   "execution_count": 0,
   "metadata": {
    "colab": {
     "base_uri": "https://localhost:8080/",
     "height": 101
    },
    "colab_type": "code",
    "id": "oAfxfI9zBIhD",
    "outputId": "7864b910-2136-40b9-d048-322fe92ebec9"
   },
   "outputs": [
    {
     "data": {
      "text/plain": [
       "date               0\n",
       "farm_id            0\n",
       "ingredient_type    0\n",
       "yield              0\n",
       "dtype: int64"
      ]
     },
     "execution_count": 6,
     "metadata": {
      "tags": []
     },
     "output_type": "execute_result"
    }
   ],
   "source": [
    "tr.isnull().sum()"
   ]
  },
  {
   "cell_type": "code",
   "execution_count": 0,
   "metadata": {
    "colab": {},
    "colab_type": "code",
    "id": "A_13k26RD7qr"
   },
   "outputs": [],
   "source": [
    "from datetime import datetime\n"
   ]
  },
  {
   "cell_type": "code",
   "execution_count": 0,
   "metadata": {
    "colab": {},
    "colab_type": "code",
    "id": "qIdG-RaMD728"
   },
   "outputs": [],
   "source": [
    "#tr['date']=pd.DatetimeIndex(tr['date']).date"
   ]
  },
  {
   "cell_type": "code",
   "execution_count": 0,
   "metadata": {
    "colab": {
     "base_uri": "https://localhost:8080/",
     "height": 195
    },
    "colab_type": "code",
    "id": "Jglb3k04D7y6",
    "outputId": "4a738df3-d6f5-46eb-e71a-e3dcca16a5d2"
   },
   "outputs": [
    {
     "data": {
      "text/html": [
       "<div>\n",
       "<style scoped>\n",
       "    .dataframe tbody tr th:only-of-type {\n",
       "        vertical-align: middle;\n",
       "    }\n",
       "\n",
       "    .dataframe tbody tr th {\n",
       "        vertical-align: top;\n",
       "    }\n",
       "\n",
       "    .dataframe thead th {\n",
       "        text-align: right;\n",
       "    }\n",
       "</style>\n",
       "<table border=\"1\" class=\"dataframe\">\n",
       "  <thead>\n",
       "    <tr style=\"text-align: right;\">\n",
       "      <th></th>\n",
       "      <th>date</th>\n",
       "      <th>farm_id</th>\n",
       "      <th>ingredient_type</th>\n",
       "      <th>yield</th>\n",
       "    </tr>\n",
       "  </thead>\n",
       "  <tbody>\n",
       "    <tr>\n",
       "      <th>0</th>\n",
       "      <td>2016-01-01 00:00:00</td>\n",
       "      <td>fid_110884</td>\n",
       "      <td>ing_w</td>\n",
       "      <td>0.0</td>\n",
       "    </tr>\n",
       "    <tr>\n",
       "      <th>1</th>\n",
       "      <td>2016-01-01 00:00:00</td>\n",
       "      <td>fid_90053</td>\n",
       "      <td>ing_w</td>\n",
       "      <td>0.0</td>\n",
       "    </tr>\n",
       "    <tr>\n",
       "      <th>2</th>\n",
       "      <td>2016-01-01 00:00:00</td>\n",
       "      <td>fid_17537</td>\n",
       "      <td>ing_w</td>\n",
       "      <td>0.0</td>\n",
       "    </tr>\n",
       "    <tr>\n",
       "      <th>3</th>\n",
       "      <td>2016-01-01 00:00:00</td>\n",
       "      <td>fid_110392</td>\n",
       "      <td>ing_w</td>\n",
       "      <td>0.0</td>\n",
       "    </tr>\n",
       "    <tr>\n",
       "      <th>4</th>\n",
       "      <td>2016-01-01 00:00:00</td>\n",
       "      <td>fid_62402</td>\n",
       "      <td>ing_w</td>\n",
       "      <td>0.0</td>\n",
       "    </tr>\n",
       "  </tbody>\n",
       "</table>\n",
       "</div>"
      ],
      "text/plain": [
       "                  date     farm_id ingredient_type  yield\n",
       "0  2016-01-01 00:00:00  fid_110884           ing_w    0.0\n",
       "1  2016-01-01 00:00:00   fid_90053           ing_w    0.0\n",
       "2  2016-01-01 00:00:00   fid_17537           ing_w    0.0\n",
       "3  2016-01-01 00:00:00  fid_110392           ing_w    0.0\n",
       "4  2016-01-01 00:00:00   fid_62402           ing_w    0.0"
      ]
     },
     "execution_count": 9,
     "metadata": {
      "tags": []
     },
     "output_type": "execute_result"
    }
   ],
   "source": [
    "tr.head()"
   ]
  },
  {
   "cell_type": "code",
   "execution_count": 0,
   "metadata": {
    "colab": {
     "base_uri": "https://localhost:8080/",
     "height": 101
    },
    "colab_type": "code",
    "id": "eNneWh9qD7v1",
    "outputId": "3ae5cc8e-4475-47b0-e547-653dfccdfec3"
   },
   "outputs": [
    {
     "data": {
      "text/plain": [
       "date                object\n",
       "farm_id             object\n",
       "ingredient_type     object\n",
       "yield              float64\n",
       "dtype: object"
      ]
     },
     "execution_count": 10,
     "metadata": {
      "tags": []
     },
     "output_type": "execute_result"
    }
   ],
   "source": [
    "tr.dtypes"
   ]
  },
  {
   "cell_type": "code",
   "execution_count": 0,
   "metadata": {
    "colab": {},
    "colab_type": "code",
    "id": "gwThGuWbBIm-"
   },
   "outputs": [],
   "source": [
    "fr = pd.read_csv('/content/drive/My Drive/Colab Notebooks/PHD/farm_data.csv')"
   ]
  },
  {
   "cell_type": "code",
   "execution_count": 0,
   "metadata": {
    "colab": {
     "base_uri": "https://localhost:8080/",
     "height": 195
    },
    "colab_type": "code",
    "id": "PEOPuXMdHqz0",
    "outputId": "c4481c44-61b4-4925-f0dd-6ce39cdd34c1"
   },
   "outputs": [
    {
     "data": {
      "text/html": [
       "<div>\n",
       "<style scoped>\n",
       "    .dataframe tbody tr th:only-of-type {\n",
       "        vertical-align: middle;\n",
       "    }\n",
       "\n",
       "    .dataframe tbody tr th {\n",
       "        vertical-align: top;\n",
       "    }\n",
       "\n",
       "    .dataframe thead th {\n",
       "        text-align: right;\n",
       "    }\n",
       "</style>\n",
       "<table border=\"1\" class=\"dataframe\">\n",
       "  <thead>\n",
       "    <tr style=\"text-align: right;\">\n",
       "      <th></th>\n",
       "      <th>farm_id</th>\n",
       "      <th>operations_commencing_year</th>\n",
       "      <th>num_processing_plants</th>\n",
       "      <th>farm_area</th>\n",
       "      <th>farming_company</th>\n",
       "      <th>deidentified_location</th>\n",
       "    </tr>\n",
       "  </thead>\n",
       "  <tbody>\n",
       "    <tr>\n",
       "      <th>0</th>\n",
       "      <td>fid_110884</td>\n",
       "      <td>2008.0</td>\n",
       "      <td>NaN</td>\n",
       "      <td>690.455096</td>\n",
       "      <td>Obery Farms</td>\n",
       "      <td>location 7369</td>\n",
       "    </tr>\n",
       "    <tr>\n",
       "      <th>1</th>\n",
       "      <td>fid_90053</td>\n",
       "      <td>2004.0</td>\n",
       "      <td>NaN</td>\n",
       "      <td>252.696160</td>\n",
       "      <td>Obery Farms</td>\n",
       "      <td>location 7369</td>\n",
       "    </tr>\n",
       "    <tr>\n",
       "      <th>2</th>\n",
       "      <td>fid_17537</td>\n",
       "      <td>1991.0</td>\n",
       "      <td>NaN</td>\n",
       "      <td>499.446528</td>\n",
       "      <td>Obery Farms</td>\n",
       "      <td>location 7369</td>\n",
       "    </tr>\n",
       "    <tr>\n",
       "      <th>3</th>\n",
       "      <td>fid_110392</td>\n",
       "      <td>2002.0</td>\n",
       "      <td>NaN</td>\n",
       "      <td>2200.407555</td>\n",
       "      <td>Obery Farms</td>\n",
       "      <td>location 7369</td>\n",
       "    </tr>\n",
       "    <tr>\n",
       "      <th>4</th>\n",
       "      <td>fid_62402</td>\n",
       "      <td>1975.0</td>\n",
       "      <td>NaN</td>\n",
       "      <td>10833.140121</td>\n",
       "      <td>Obery Farms</td>\n",
       "      <td>location 7369</td>\n",
       "    </tr>\n",
       "  </tbody>\n",
       "</table>\n",
       "</div>"
      ],
      "text/plain": [
       "      farm_id  operations_commencing_year  ...  farming_company  deidentified_location\n",
       "0  fid_110884                      2008.0  ...      Obery Farms          location 7369\n",
       "1   fid_90053                      2004.0  ...      Obery Farms          location 7369\n",
       "2   fid_17537                      1991.0  ...      Obery Farms          location 7369\n",
       "3  fid_110392                      2002.0  ...      Obery Farms          location 7369\n",
       "4   fid_62402                      1975.0  ...      Obery Farms          location 7369\n",
       "\n",
       "[5 rows x 6 columns]"
      ]
     },
     "execution_count": 12,
     "metadata": {
      "tags": []
     },
     "output_type": "execute_result"
    }
   ],
   "source": [
    "fr.head()"
   ]
  },
  {
   "cell_type": "code",
   "execution_count": 0,
   "metadata": {
    "colab": {},
    "colab_type": "code",
    "id": "Tftotp6CHqxw"
   },
   "outputs": [],
   "source": [
    "train_farm = pd.merge(tr,fr,on='farm_id')"
   ]
  },
  {
   "cell_type": "code",
   "execution_count": 0,
   "metadata": {
    "colab": {
     "base_uri": "https://localhost:8080/",
     "height": 383
    },
    "colab_type": "code",
    "id": "6FhNAIMZHqr7",
    "outputId": "ea197442-7f30-4198-df42-6a4296dc2300"
   },
   "outputs": [
    {
     "data": {
      "text/html": [
       "<div>\n",
       "<style scoped>\n",
       "    .dataframe tbody tr th:only-of-type {\n",
       "        vertical-align: middle;\n",
       "    }\n",
       "\n",
       "    .dataframe tbody tr th {\n",
       "        vertical-align: top;\n",
       "    }\n",
       "\n",
       "    .dataframe thead th {\n",
       "        text-align: right;\n",
       "    }\n",
       "</style>\n",
       "<table border=\"1\" class=\"dataframe\">\n",
       "  <thead>\n",
       "    <tr style=\"text-align: right;\">\n",
       "      <th></th>\n",
       "      <th>date</th>\n",
       "      <th>farm_id</th>\n",
       "      <th>ingredient_type</th>\n",
       "      <th>yield</th>\n",
       "      <th>operations_commencing_year</th>\n",
       "      <th>num_processing_plants</th>\n",
       "      <th>farm_area</th>\n",
       "      <th>farming_company</th>\n",
       "      <th>deidentified_location</th>\n",
       "    </tr>\n",
       "  </thead>\n",
       "  <tbody>\n",
       "    <tr>\n",
       "      <th>0</th>\n",
       "      <td>2016-01-01 00:00:00</td>\n",
       "      <td>fid_110884</td>\n",
       "      <td>ing_w</td>\n",
       "      <td>0.0</td>\n",
       "      <td>2008.0</td>\n",
       "      <td>NaN</td>\n",
       "      <td>690.455096</td>\n",
       "      <td>Obery Farms</td>\n",
       "      <td>location 7369</td>\n",
       "    </tr>\n",
       "    <tr>\n",
       "      <th>1</th>\n",
       "      <td>2016-01-01 01:00:00</td>\n",
       "      <td>fid_110884</td>\n",
       "      <td>ing_w</td>\n",
       "      <td>0.0</td>\n",
       "      <td>2008.0</td>\n",
       "      <td>NaN</td>\n",
       "      <td>690.455096</td>\n",
       "      <td>Obery Farms</td>\n",
       "      <td>location 7369</td>\n",
       "    </tr>\n",
       "    <tr>\n",
       "      <th>2</th>\n",
       "      <td>2016-01-01 02:00:00</td>\n",
       "      <td>fid_110884</td>\n",
       "      <td>ing_w</td>\n",
       "      <td>0.0</td>\n",
       "      <td>2008.0</td>\n",
       "      <td>NaN</td>\n",
       "      <td>690.455096</td>\n",
       "      <td>Obery Farms</td>\n",
       "      <td>location 7369</td>\n",
       "    </tr>\n",
       "    <tr>\n",
       "      <th>3</th>\n",
       "      <td>2016-01-01 03:00:00</td>\n",
       "      <td>fid_110884</td>\n",
       "      <td>ing_w</td>\n",
       "      <td>0.0</td>\n",
       "      <td>2008.0</td>\n",
       "      <td>NaN</td>\n",
       "      <td>690.455096</td>\n",
       "      <td>Obery Farms</td>\n",
       "      <td>location 7369</td>\n",
       "    </tr>\n",
       "    <tr>\n",
       "      <th>4</th>\n",
       "      <td>2016-01-01 04:00:00</td>\n",
       "      <td>fid_110884</td>\n",
       "      <td>ing_w</td>\n",
       "      <td>0.0</td>\n",
       "      <td>2008.0</td>\n",
       "      <td>NaN</td>\n",
       "      <td>690.455096</td>\n",
       "      <td>Obery Farms</td>\n",
       "      <td>location 7369</td>\n",
       "    </tr>\n",
       "  </tbody>\n",
       "</table>\n",
       "</div>"
      ],
      "text/plain": [
       "                  date     farm_id  ... farming_company  deidentified_location\n",
       "0  2016-01-01 00:00:00  fid_110884  ...     Obery Farms          location 7369\n",
       "1  2016-01-01 01:00:00  fid_110884  ...     Obery Farms          location 7369\n",
       "2  2016-01-01 02:00:00  fid_110884  ...     Obery Farms          location 7369\n",
       "3  2016-01-01 03:00:00  fid_110884  ...     Obery Farms          location 7369\n",
       "4  2016-01-01 04:00:00  fid_110884  ...     Obery Farms          location 7369\n",
       "\n",
       "[5 rows x 9 columns]"
      ]
     },
     "execution_count": 14,
     "metadata": {
      "tags": []
     },
     "output_type": "execute_result"
    }
   ],
   "source": [
    "train_farm.head()"
   ]
  },
  {
   "cell_type": "code",
   "execution_count": 0,
   "metadata": {
    "colab": {
     "base_uri": "https://localhost:8080/",
     "height": 34
    },
    "colab_type": "code",
    "id": "PH2mwphKHqpE",
    "outputId": "e0570cc9-36ec-43c0-c698-2544cc78f204"
   },
   "outputs": [
    {
     "data": {
      "text/plain": [
       "(20602899, 9)"
      ]
     },
     "execution_count": 15,
     "metadata": {
      "tags": []
     },
     "output_type": "execute_result"
    }
   ],
   "source": [
    "train_farm.shape"
   ]
  },
  {
   "cell_type": "code",
   "execution_count": 0,
   "metadata": {
    "colab": {},
    "colab_type": "code",
    "id": "qEeIjkjIHqnD"
   },
   "outputs": [],
   "source": [
    "train_farm.drop('operations_commencing_year',axis=1,inplace=True)"
   ]
  },
  {
   "cell_type": "code",
   "execution_count": 0,
   "metadata": {
    "colab": {},
    "colab_type": "code",
    "id": "rYUyLjzb71sQ"
   },
   "outputs": [],
   "source": [
    "train_farm.drop('num_processing_plants',axis=1,inplace=True)"
   ]
  },
  {
   "cell_type": "code",
   "execution_count": 0,
   "metadata": {
    "colab": {},
    "colab_type": "code",
    "id": "0eV3fK5n9tgt"
   },
   "outputs": [],
   "source": [
    "train_farm.drop('farming_company',axis=1,inplace=True)"
   ]
  },
  {
   "cell_type": "code",
   "execution_count": 0,
   "metadata": {
    "colab": {
     "base_uri": "https://localhost:8080/",
     "height": 134
    },
    "colab_type": "code",
    "id": "bwS_zFplKA84",
    "outputId": "0e6a5a70-6167-4011-9279-5b9cbdfcc37d"
   },
   "outputs": [
    {
     "data": {
      "text/plain": [
       "date                     0\n",
       "farm_id                  0\n",
       "ingredient_type          0\n",
       "yield                    0\n",
       "farm_area                0\n",
       "deidentified_location    0\n",
       "dtype: int64"
      ]
     },
     "execution_count": 19,
     "metadata": {
      "tags": []
     },
     "output_type": "execute_result"
    }
   ],
   "source": [
    "train_farm.isnull().sum()"
   ]
  },
  {
   "cell_type": "code",
   "execution_count": 0,
   "metadata": {
    "colab": {},
    "colab_type": "code",
    "id": "YoEAq8NdBI3_"
   },
   "outputs": [],
   "source": [
    "weather = pd.read_csv('/content/drive/My Drive/Colab Notebooks/PHD/train_weather.csv')"
   ]
  },
  {
   "cell_type": "code",
   "execution_count": 0,
   "metadata": {
    "colab": {
     "base_uri": "https://localhost:8080/",
     "height": 195
    },
    "colab_type": "code",
    "id": "189gVxudjyuV",
    "outputId": "e935a0bc-3e04-41ff-8d2b-093e2b87f695"
   },
   "outputs": [
    {
     "data": {
      "text/html": [
       "<div>\n",
       "<style scoped>\n",
       "    .dataframe tbody tr th:only-of-type {\n",
       "        vertical-align: middle;\n",
       "    }\n",
       "\n",
       "    .dataframe tbody tr th {\n",
       "        vertical-align: top;\n",
       "    }\n",
       "\n",
       "    .dataframe thead th {\n",
       "        text-align: right;\n",
       "    }\n",
       "</style>\n",
       "<table border=\"1\" class=\"dataframe\">\n",
       "  <thead>\n",
       "    <tr style=\"text-align: right;\">\n",
       "      <th></th>\n",
       "      <th>timestamp</th>\n",
       "      <th>deidentified_location</th>\n",
       "      <th>temp_obs</th>\n",
       "      <th>cloudiness</th>\n",
       "      <th>wind_direction</th>\n",
       "      <th>dew_temp</th>\n",
       "      <th>pressure_sea_level</th>\n",
       "      <th>precipitation</th>\n",
       "      <th>wind_speed</th>\n",
       "    </tr>\n",
       "  </thead>\n",
       "  <tbody>\n",
       "    <tr>\n",
       "      <th>0</th>\n",
       "      <td>2016-01-01 00:00:00</td>\n",
       "      <td>location 7369</td>\n",
       "      <td>25.0</td>\n",
       "      <td>6.0</td>\n",
       "      <td>0.0</td>\n",
       "      <td>20.0</td>\n",
       "      <td>1019.7</td>\n",
       "      <td>NaN</td>\n",
       "      <td>0.0</td>\n",
       "    </tr>\n",
       "    <tr>\n",
       "      <th>1</th>\n",
       "      <td>2016-01-01 01:00:00</td>\n",
       "      <td>location 7369</td>\n",
       "      <td>24.4</td>\n",
       "      <td>NaN</td>\n",
       "      <td>70.0</td>\n",
       "      <td>21.1</td>\n",
       "      <td>1020.2</td>\n",
       "      <td>-1.0</td>\n",
       "      <td>1.5</td>\n",
       "    </tr>\n",
       "    <tr>\n",
       "      <th>2</th>\n",
       "      <td>2016-01-01 02:00:00</td>\n",
       "      <td>location 7369</td>\n",
       "      <td>22.8</td>\n",
       "      <td>2.0</td>\n",
       "      <td>0.0</td>\n",
       "      <td>21.1</td>\n",
       "      <td>1020.2</td>\n",
       "      <td>0.0</td>\n",
       "      <td>0.0</td>\n",
       "    </tr>\n",
       "    <tr>\n",
       "      <th>3</th>\n",
       "      <td>2016-01-01 03:00:00</td>\n",
       "      <td>location 7369</td>\n",
       "      <td>21.1</td>\n",
       "      <td>2.0</td>\n",
       "      <td>0.0</td>\n",
       "      <td>20.6</td>\n",
       "      <td>1020.1</td>\n",
       "      <td>0.0</td>\n",
       "      <td>0.0</td>\n",
       "    </tr>\n",
       "    <tr>\n",
       "      <th>4</th>\n",
       "      <td>2016-01-01 04:00:00</td>\n",
       "      <td>location 7369</td>\n",
       "      <td>20.0</td>\n",
       "      <td>2.0</td>\n",
       "      <td>250.0</td>\n",
       "      <td>20.0</td>\n",
       "      <td>1020.0</td>\n",
       "      <td>-1.0</td>\n",
       "      <td>2.6</td>\n",
       "    </tr>\n",
       "  </tbody>\n",
       "</table>\n",
       "</div>"
      ],
      "text/plain": [
       "             timestamp deidentified_location  ...  precipitation  wind_speed\n",
       "0  2016-01-01 00:00:00         location 7369  ...            NaN         0.0\n",
       "1  2016-01-01 01:00:00         location 7369  ...           -1.0         1.5\n",
       "2  2016-01-01 02:00:00         location 7369  ...            0.0         0.0\n",
       "3  2016-01-01 03:00:00         location 7369  ...            0.0         0.0\n",
       "4  2016-01-01 04:00:00         location 7369  ...           -1.0         2.6\n",
       "\n",
       "[5 rows x 9 columns]"
      ]
     },
     "execution_count": 21,
     "metadata": {
      "tags": []
     },
     "output_type": "execute_result"
    }
   ],
   "source": [
    "weather.head()"
   ]
  },
  {
   "cell_type": "code",
   "execution_count": 0,
   "metadata": {
    "colab": {},
    "colab_type": "code",
    "id": "ijMK4h_Z-DtU"
   },
   "outputs": [],
   "source": [
    "from datetime import datetime"
   ]
  },
  {
   "cell_type": "code",
   "execution_count": 0,
   "metadata": {
    "colab": {},
    "colab_type": "code",
    "id": "YYT7WiV0-GlY"
   },
   "outputs": [],
   "source": [
    "weather.rename(columns={'timestamp':'date'},inplace=True)"
   ]
  },
  {
   "cell_type": "code",
   "execution_count": 0,
   "metadata": {
    "colab": {
     "base_uri": "https://localhost:8080/",
     "height": 195
    },
    "colab_type": "code",
    "id": "PrqcWneU-VLq",
    "outputId": "aef33e9b-0fd6-4cbc-a2eb-4b4c723858a1"
   },
   "outputs": [
    {
     "data": {
      "text/html": [
       "<div>\n",
       "<style scoped>\n",
       "    .dataframe tbody tr th:only-of-type {\n",
       "        vertical-align: middle;\n",
       "    }\n",
       "\n",
       "    .dataframe tbody tr th {\n",
       "        vertical-align: top;\n",
       "    }\n",
       "\n",
       "    .dataframe thead th {\n",
       "        text-align: right;\n",
       "    }\n",
       "</style>\n",
       "<table border=\"1\" class=\"dataframe\">\n",
       "  <thead>\n",
       "    <tr style=\"text-align: right;\">\n",
       "      <th></th>\n",
       "      <th>date</th>\n",
       "      <th>deidentified_location</th>\n",
       "      <th>temp_obs</th>\n",
       "      <th>cloudiness</th>\n",
       "      <th>wind_direction</th>\n",
       "      <th>dew_temp</th>\n",
       "      <th>pressure_sea_level</th>\n",
       "      <th>precipitation</th>\n",
       "      <th>wind_speed</th>\n",
       "    </tr>\n",
       "  </thead>\n",
       "  <tbody>\n",
       "    <tr>\n",
       "      <th>0</th>\n",
       "      <td>2016-01-01 00:00:00</td>\n",
       "      <td>location 7369</td>\n",
       "      <td>25.0</td>\n",
       "      <td>6.0</td>\n",
       "      <td>0.0</td>\n",
       "      <td>20.0</td>\n",
       "      <td>1019.7</td>\n",
       "      <td>NaN</td>\n",
       "      <td>0.0</td>\n",
       "    </tr>\n",
       "    <tr>\n",
       "      <th>1</th>\n",
       "      <td>2016-01-01 01:00:00</td>\n",
       "      <td>location 7369</td>\n",
       "      <td>24.4</td>\n",
       "      <td>NaN</td>\n",
       "      <td>70.0</td>\n",
       "      <td>21.1</td>\n",
       "      <td>1020.2</td>\n",
       "      <td>-1.0</td>\n",
       "      <td>1.5</td>\n",
       "    </tr>\n",
       "    <tr>\n",
       "      <th>2</th>\n",
       "      <td>2016-01-01 02:00:00</td>\n",
       "      <td>location 7369</td>\n",
       "      <td>22.8</td>\n",
       "      <td>2.0</td>\n",
       "      <td>0.0</td>\n",
       "      <td>21.1</td>\n",
       "      <td>1020.2</td>\n",
       "      <td>0.0</td>\n",
       "      <td>0.0</td>\n",
       "    </tr>\n",
       "    <tr>\n",
       "      <th>3</th>\n",
       "      <td>2016-01-01 03:00:00</td>\n",
       "      <td>location 7369</td>\n",
       "      <td>21.1</td>\n",
       "      <td>2.0</td>\n",
       "      <td>0.0</td>\n",
       "      <td>20.6</td>\n",
       "      <td>1020.1</td>\n",
       "      <td>0.0</td>\n",
       "      <td>0.0</td>\n",
       "    </tr>\n",
       "    <tr>\n",
       "      <th>4</th>\n",
       "      <td>2016-01-01 04:00:00</td>\n",
       "      <td>location 7369</td>\n",
       "      <td>20.0</td>\n",
       "      <td>2.0</td>\n",
       "      <td>250.0</td>\n",
       "      <td>20.0</td>\n",
       "      <td>1020.0</td>\n",
       "      <td>-1.0</td>\n",
       "      <td>2.6</td>\n",
       "    </tr>\n",
       "  </tbody>\n",
       "</table>\n",
       "</div>"
      ],
      "text/plain": [
       "                  date deidentified_location  ...  precipitation  wind_speed\n",
       "0  2016-01-01 00:00:00         location 7369  ...            NaN         0.0\n",
       "1  2016-01-01 01:00:00         location 7369  ...           -1.0         1.5\n",
       "2  2016-01-01 02:00:00         location 7369  ...            0.0         0.0\n",
       "3  2016-01-01 03:00:00         location 7369  ...            0.0         0.0\n",
       "4  2016-01-01 04:00:00         location 7369  ...           -1.0         2.6\n",
       "\n",
       "[5 rows x 9 columns]"
      ]
     },
     "execution_count": 24,
     "metadata": {
      "tags": []
     },
     "output_type": "execute_result"
    }
   ],
   "source": [
    "weather.head()"
   ]
  },
  {
   "cell_type": "code",
   "execution_count": 0,
   "metadata": {
    "colab": {
     "base_uri": "https://localhost:8080/",
     "height": 185
    },
    "colab_type": "code",
    "id": "BcpsFsLVBIyB",
    "outputId": "516189a5-820b-4d54-d9be-88bf7c522db1"
   },
   "outputs": [
    {
     "data": {
      "text/plain": [
       "date                         0\n",
       "deidentified_location        0\n",
       "temp_obs                    55\n",
       "cloudiness               69173\n",
       "wind_direction            6268\n",
       "dew_temp                   113\n",
       "pressure_sea_level       10618\n",
       "precipitation            50289\n",
       "wind_speed                 304\n",
       "dtype: int64"
      ]
     },
     "execution_count": 25,
     "metadata": {
      "tags": []
     },
     "output_type": "execute_result"
    }
   ],
   "source": [
    "weather.isnull().sum()"
   ]
  },
  {
   "cell_type": "code",
   "execution_count": 0,
   "metadata": {
    "colab": {},
    "colab_type": "code",
    "id": "Gql45EjZQFAQ"
   },
   "outputs": [],
   "source": [
    "weather.fillna(weather.median(),inplace=True)"
   ]
  },
  {
   "cell_type": "code",
   "execution_count": 0,
   "metadata": {
    "colab": {
     "base_uri": "https://localhost:8080/",
     "height": 34
    },
    "colab_type": "code",
    "id": "eIalOWA8BIun",
    "outputId": "738133a7-ee1b-40aa-9f31-5f7dc5d8e9ed"
   },
   "outputs": [
    {
     "data": {
      "text/plain": [
       "(139773, 9)"
      ]
     },
     "execution_count": 27,
     "metadata": {
      "tags": []
     },
     "output_type": "execute_result"
    }
   ],
   "source": [
    "weather.shape"
   ]
  },
  {
   "cell_type": "code",
   "execution_count": 0,
   "metadata": {
    "colab": {
     "base_uri": "https://localhost:8080/",
     "height": 185
    },
    "colab_type": "code",
    "id": "pqUeQ8DiL-fP",
    "outputId": "febb4a72-fbd3-48cc-fd4d-50387f173721"
   },
   "outputs": [
    {
     "data": {
      "text/plain": [
       "date                     0\n",
       "deidentified_location    0\n",
       "temp_obs                 0\n",
       "cloudiness               0\n",
       "wind_direction           0\n",
       "dew_temp                 0\n",
       "pressure_sea_level       0\n",
       "precipitation            0\n",
       "wind_speed               0\n",
       "dtype: int64"
      ]
     },
     "execution_count": 28,
     "metadata": {
      "tags": []
     },
     "output_type": "execute_result"
    }
   ],
   "source": [
    "weather.isnull().sum()"
   ]
  },
  {
   "cell_type": "code",
   "execution_count": 0,
   "metadata": {
    "colab": {},
    "colab_type": "code",
    "id": "c5sdhZ19L-cN"
   },
   "outputs": [],
   "source": [
    "weather_train_farm = pd.merge(train_farm,weather, on=['deidentified_location','date'])"
   ]
  },
  {
   "cell_type": "code",
   "execution_count": 0,
   "metadata": {
    "colab": {
     "base_uri": "https://localhost:8080/",
     "height": 383
    },
    "colab_type": "code",
    "id": "dfT-9WwVgqZv",
    "outputId": "d35ccdf0-d89e-4337-c552-2127203e37e6"
   },
   "outputs": [
    {
     "data": {
      "text/html": [
       "<div>\n",
       "<style scoped>\n",
       "    .dataframe tbody tr th:only-of-type {\n",
       "        vertical-align: middle;\n",
       "    }\n",
       "\n",
       "    .dataframe tbody tr th {\n",
       "        vertical-align: top;\n",
       "    }\n",
       "\n",
       "    .dataframe thead th {\n",
       "        text-align: right;\n",
       "    }\n",
       "</style>\n",
       "<table border=\"1\" class=\"dataframe\">\n",
       "  <thead>\n",
       "    <tr style=\"text-align: right;\">\n",
       "      <th></th>\n",
       "      <th>date</th>\n",
       "      <th>farm_id</th>\n",
       "      <th>ingredient_type</th>\n",
       "      <th>yield</th>\n",
       "      <th>farm_area</th>\n",
       "      <th>deidentified_location</th>\n",
       "      <th>temp_obs</th>\n",
       "      <th>cloudiness</th>\n",
       "      <th>wind_direction</th>\n",
       "      <th>dew_temp</th>\n",
       "      <th>pressure_sea_level</th>\n",
       "      <th>precipitation</th>\n",
       "      <th>wind_speed</th>\n",
       "    </tr>\n",
       "  </thead>\n",
       "  <tbody>\n",
       "    <tr>\n",
       "      <th>0</th>\n",
       "      <td>2016-01-01 00:00:00</td>\n",
       "      <td>fid_110884</td>\n",
       "      <td>ing_w</td>\n",
       "      <td>0.0</td>\n",
       "      <td>690.455096</td>\n",
       "      <td>location 7369</td>\n",
       "      <td>25.0</td>\n",
       "      <td>6.0</td>\n",
       "      <td>0.0</td>\n",
       "      <td>20.0</td>\n",
       "      <td>1019.7</td>\n",
       "      <td>0.0</td>\n",
       "      <td>0.0</td>\n",
       "    </tr>\n",
       "    <tr>\n",
       "      <th>1</th>\n",
       "      <td>2016-01-01 00:00:00</td>\n",
       "      <td>fid_90053</td>\n",
       "      <td>ing_w</td>\n",
       "      <td>0.0</td>\n",
       "      <td>252.696160</td>\n",
       "      <td>location 7369</td>\n",
       "      <td>25.0</td>\n",
       "      <td>6.0</td>\n",
       "      <td>0.0</td>\n",
       "      <td>20.0</td>\n",
       "      <td>1019.7</td>\n",
       "      <td>0.0</td>\n",
       "      <td>0.0</td>\n",
       "    </tr>\n",
       "    <tr>\n",
       "      <th>2</th>\n",
       "      <td>2016-01-01 00:00:00</td>\n",
       "      <td>fid_17537</td>\n",
       "      <td>ing_w</td>\n",
       "      <td>0.0</td>\n",
       "      <td>499.446528</td>\n",
       "      <td>location 7369</td>\n",
       "      <td>25.0</td>\n",
       "      <td>6.0</td>\n",
       "      <td>0.0</td>\n",
       "      <td>20.0</td>\n",
       "      <td>1019.7</td>\n",
       "      <td>0.0</td>\n",
       "      <td>0.0</td>\n",
       "    </tr>\n",
       "    <tr>\n",
       "      <th>3</th>\n",
       "      <td>2016-01-01 00:00:00</td>\n",
       "      <td>fid_110392</td>\n",
       "      <td>ing_w</td>\n",
       "      <td>0.0</td>\n",
       "      <td>2200.407555</td>\n",
       "      <td>location 7369</td>\n",
       "      <td>25.0</td>\n",
       "      <td>6.0</td>\n",
       "      <td>0.0</td>\n",
       "      <td>20.0</td>\n",
       "      <td>1019.7</td>\n",
       "      <td>0.0</td>\n",
       "      <td>0.0</td>\n",
       "    </tr>\n",
       "    <tr>\n",
       "      <th>4</th>\n",
       "      <td>2016-01-01 00:00:00</td>\n",
       "      <td>fid_62402</td>\n",
       "      <td>ing_w</td>\n",
       "      <td>0.0</td>\n",
       "      <td>10833.140121</td>\n",
       "      <td>location 7369</td>\n",
       "      <td>25.0</td>\n",
       "      <td>6.0</td>\n",
       "      <td>0.0</td>\n",
       "      <td>20.0</td>\n",
       "      <td>1019.7</td>\n",
       "      <td>0.0</td>\n",
       "      <td>0.0</td>\n",
       "    </tr>\n",
       "  </tbody>\n",
       "</table>\n",
       "</div>"
      ],
      "text/plain": [
       "                  date     farm_id  ... precipitation  wind_speed\n",
       "0  2016-01-01 00:00:00  fid_110884  ...           0.0         0.0\n",
       "1  2016-01-01 00:00:00   fid_90053  ...           0.0         0.0\n",
       "2  2016-01-01 00:00:00   fid_17537  ...           0.0         0.0\n",
       "3  2016-01-01 00:00:00  fid_110392  ...           0.0         0.0\n",
       "4  2016-01-01 00:00:00   fid_62402  ...           0.0         0.0\n",
       "\n",
       "[5 rows x 13 columns]"
      ]
     },
     "execution_count": 30,
     "metadata": {
      "tags": []
     },
     "output_type": "execute_result"
    }
   ],
   "source": [
    "weather_train_farm.head()"
   ]
  },
  {
   "cell_type": "code",
   "execution_count": 0,
   "metadata": {
    "colab": {
     "base_uri": "https://localhost:8080/",
     "height": 34
    },
    "colab_type": "code",
    "id": "-yk0UU5U-IdS",
    "outputId": "4ff7bb82-0ae0-40ae-d923-69c23d3e061e"
   },
   "outputs": [
    {
     "data": {
      "text/plain": [
       "array(['ing_w', 'ing_x', 'ing_y', 'ing_z'], dtype=object)"
      ]
     },
     "execution_count": 31,
     "metadata": {
      "tags": []
     },
     "output_type": "execute_result"
    }
   ],
   "source": [
    "weather_train_farm.ingredient_type.unique()"
   ]
  },
  {
   "cell_type": "code",
   "execution_count": 0,
   "metadata": {
    "colab": {
     "base_uri": "https://localhost:8080/",
     "height": 252
    },
    "colab_type": "code",
    "id": "4HXWJRBVSsBh",
    "outputId": "09c4ca18-b393-4e87-8442-c312d2ea6389"
   },
   "outputs": [
    {
     "data": {
      "text/plain": [
       "date                      object\n",
       "farm_id                   object\n",
       "ingredient_type           object\n",
       "yield                    float64\n",
       "farm_area                float64\n",
       "deidentified_location     object\n",
       "temp_obs                 float64\n",
       "cloudiness               float64\n",
       "wind_direction           float64\n",
       "dew_temp                 float64\n",
       "pressure_sea_level       float64\n",
       "precipitation            float64\n",
       "wind_speed               float64\n",
       "dtype: object"
      ]
     },
     "execution_count": 32,
     "metadata": {
      "tags": []
     },
     "output_type": "execute_result"
    }
   ],
   "source": [
    "weather_train_farm.dtypes"
   ]
  },
  {
   "cell_type": "code",
   "execution_count": 0,
   "metadata": {
    "colab": {},
    "colab_type": "code",
    "id": "dU_JK50VS0Q2"
   },
   "outputs": [],
   "source": [
    "weather_train_farm.set_index('date', inplace=True)"
   ]
  },
  {
   "cell_type": "code",
   "execution_count": 0,
   "metadata": {
    "colab": {
     "base_uri": "https://localhost:8080/",
     "height": 235
    },
    "colab_type": "code",
    "id": "bFNcgsHwTmkX",
    "outputId": "86867387-1c69-4d7c-82f7-88b5c14eeb1f"
   },
   "outputs": [
    {
     "data": {
      "text/plain": [
       "farm_id                   object\n",
       "ingredient_type           object\n",
       "yield                    float64\n",
       "farm_area                float64\n",
       "deidentified_location     object\n",
       "temp_obs                 float64\n",
       "cloudiness               float64\n",
       "wind_direction           float64\n",
       "dew_temp                 float64\n",
       "pressure_sea_level       float64\n",
       "precipitation            float64\n",
       "wind_speed               float64\n",
       "dtype: object"
      ]
     },
     "execution_count": 34,
     "metadata": {
      "tags": []
     },
     "output_type": "execute_result"
    }
   ],
   "source": [
    "weather_train_farm.dtypes"
   ]
  },
  {
   "cell_type": "code",
   "execution_count": 0,
   "metadata": {
    "colab": {
     "base_uri": "https://localhost:8080/",
     "height": 34
    },
    "colab_type": "code",
    "id": "yu7NHm-VL-V7",
    "outputId": "ccd4598f-69f4-488c-f588-dae153c90d39"
   },
   "outputs": [
    {
     "data": {
      "text/plain": [
       "(20511532, 12)"
      ]
     },
     "execution_count": 35,
     "metadata": {
      "tags": []
     },
     "output_type": "execute_result"
    }
   ],
   "source": [
    "weather_train_farm.shape"
   ]
  },
  {
   "cell_type": "code",
   "execution_count": 0,
   "metadata": {
    "colab": {
     "base_uri": "https://localhost:8080/",
     "height": 67
    },
    "colab_type": "code",
    "id": "6hpGUPOhuG6A",
    "outputId": "f20dbb8b-419b-470e-b58f-10f631831560"
   },
   "outputs": [
    {
     "data": {
      "text/plain": [
       "Index(['farm_area', 'temp_obs', 'cloudiness', 'wind_direction', 'dew_temp',\n",
       "       'pressure_sea_level', 'precipitation', 'wind_speed'],\n",
       "      dtype='object')"
      ]
     },
     "execution_count": 36,
     "metadata": {
      "tags": []
     },
     "output_type": "execute_result"
    }
   ],
   "source": [
    "  cat_cols = ['farm_id', 'deidentified_location', 'ingredient_type']\n",
    "\n",
    "  # create a list for all numerical column names\n",
    "  num_cols = weather_train_farm.columns[~weather_train_farm.columns.isin(cat_cols)]\n",
    "\n",
    "  # remove target column('yield')\n",
    "  num_cols = num_cols.drop('yield')\n",
    "\n",
    "  num_cols"
   ]
  },
  {
   "cell_type": "code",
   "execution_count": 0,
   "metadata": {
    "colab": {},
    "colab_type": "code",
    "id": "AdGNzxAeFpmT"
   },
   "outputs": [],
   "source": [
    "weather_train_farm[cat_cols] = weather_train_farm[cat_cols].apply(lambda x : x.astype('category'))"
   ]
  },
  {
   "cell_type": "code",
   "execution_count": 0,
   "metadata": {
    "colab": {
     "base_uri": "https://localhost:8080/",
     "height": 255
    },
    "colab_type": "code",
    "id": "eVAFgcZHFplL",
    "outputId": "2b9b1fd2-f7fc-42e6-f9fb-e9c155ee0aef"
   },
   "outputs": [
    {
     "name": "stdout",
     "output_type": "stream",
     "text": [
      "farm_id ----->> [fid_110884, fid_90053, fid_17537, fid_110392, fid_62402, ..., fid_36739, fid_112848, fid_58769, fid_117010, fid_74945]\n",
      "Length: 1434\n",
      "Categories (1434, object): [fid_110884, fid_90053, fid_17537, fid_110392, ..., fid_112848, fid_58769,\n",
      "                            fid_117010, fid_74945] \n",
      "\n",
      "deidentified_location ----->> [location 7369, location 6364, location 959, location 5489, location 2532, ..., location 4525, location 8421, location 5410, location 1784, location 868]\n",
      "Length: 16\n",
      "Categories (16, object): [location 7369, location 6364, location 959, location 5489, ...,\n",
      "                          location 8421, location 5410, location 1784, location 868] \n",
      "\n",
      "ingredient_type ----->> [ing_w, ing_x, ing_y, ing_z]\n",
      "Categories (4, object): [ing_w, ing_x, ing_y, ing_z] \n",
      "\n"
     ]
    }
   ],
   "source": [
    "for x in cat_cols :\n",
    "    print(x, '----->>', weather_train_farm[x].unique(), '\\n')"
   ]
  },
  {
   "cell_type": "code",
   "execution_count": 0,
   "metadata": {
    "colab": {
     "base_uri": "https://localhost:8080/",
     "height": 235
    },
    "colab_type": "code",
    "id": "AmKfKAaSFpaq",
    "outputId": "be414eb4-d0ac-46ef-af00-c74abbdd5e46"
   },
   "outputs": [
    {
     "data": {
      "text/plain": [
       "farm_id                  category\n",
       "ingredient_type          category\n",
       "yield                     float64\n",
       "farm_area                 float64\n",
       "deidentified_location    category\n",
       "temp_obs                  float64\n",
       "cloudiness                float64\n",
       "wind_direction            float64\n",
       "dew_temp                  float64\n",
       "pressure_sea_level        float64\n",
       "precipitation             float64\n",
       "wind_speed                float64\n",
       "dtype: object"
      ]
     },
     "execution_count": 39,
     "metadata": {
      "tags": []
     },
     "output_type": "execute_result"
    }
   ],
   "source": [
    "weather_train_farm.dtypes"
   ]
  },
  {
   "cell_type": "code",
   "execution_count": 0,
   "metadata": {
    "colab": {
     "base_uri": "https://localhost:8080/",
     "height": 235
    },
    "colab_type": "code",
    "id": "RRAaqVHxFpXw",
    "outputId": "84725b51-968e-414d-aa36-3cff0cf09cac"
   },
   "outputs": [
    {
     "data": {
      "text/plain": [
       "farm_id                  0\n",
       "ingredient_type          0\n",
       "yield                    0\n",
       "farm_area                0\n",
       "deidentified_location    0\n",
       "temp_obs                 0\n",
       "cloudiness               0\n",
       "wind_direction           0\n",
       "dew_temp                 0\n",
       "pressure_sea_level       0\n",
       "precipitation            0\n",
       "wind_speed               0\n",
       "dtype: int64"
      ]
     },
     "execution_count": 40,
     "metadata": {
      "tags": []
     },
     "output_type": "execute_result"
    }
   ],
   "source": [
    "weather_train_farm.isnull().sum()"
   ]
  },
  {
   "cell_type": "code",
   "execution_count": 0,
   "metadata": {
    "colab": {},
    "colab_type": "code",
    "id": "Ps9nqsTiFpKQ"
   },
   "outputs": [],
   "source": [
    " # independent variables\n",
    "X = weather_train_farm.drop('yield', axis = 1)\n",
    "\n",
    "# dependent variable\n",
    "y = weather_train_farm['yield']"
   ]
  },
  {
   "cell_type": "code",
   "execution_count": 0,
   "metadata": {
    "colab": {
     "base_uri": "https://localhost:8080/",
     "height": 218
    },
    "colab_type": "code",
    "id": "0erVvvzBliaa",
    "outputId": "7ab8005f-e80c-4304-860e-40a22f5c14df"
   },
   "outputs": [
    {
     "data": {
      "text/plain": [
       "farm_id                  category\n",
       "ingredient_type          category\n",
       "farm_area                 float64\n",
       "deidentified_location    category\n",
       "temp_obs                  float64\n",
       "cloudiness                float64\n",
       "wind_direction            float64\n",
       "dew_temp                  float64\n",
       "pressure_sea_level        float64\n",
       "precipitation             float64\n",
       "wind_speed                float64\n",
       "dtype: object"
      ]
     },
     "execution_count": 42,
     "metadata": {
      "tags": []
     },
     "output_type": "execute_result"
    }
   ],
   "source": [
    "X.dtypes"
   ]
  },
  {
   "cell_type": "code",
   "execution_count": 0,
   "metadata": {
    "colab": {},
    "colab_type": "code",
    "id": "FKSrNj5QFpIN"
   },
   "outputs": [],
   "source": [
    "from sklearn.model_selection import train_test_split\n",
    "from sklearn.preprocessing import StandardScaler\n",
    "\n",
    "#num_scaler = StandardScaler()\n",
    "\n",
    "def prepare_data(X, y, split_size = 0.3) :\n",
    "    \n",
    "    \n",
    "    ## train test split\n",
    "    X_train, X_test, y_train, y_test = train_test_split(X, y,\n",
    "                                                        test_size = split_size)  \n",
    "    \n",
    "    ## fit num_scaler\n",
    "    #num_scaler.fit(X_train[num_cols])\n",
    "    \n",
    "    print(X_train.shape)\n",
    "    print(X_test.shape)\n",
    "    \n",
    "    return X_train, X_test, y_train, y_test "
   ]
  },
  {
   "cell_type": "code",
   "execution_count": 0,
   "metadata": {
    "colab": {},
    "colab_type": "code",
    "id": "TRCljUjER3ZN"
   },
   "outputs": [],
   "source": [
    "#def preprocess_data(data, scale = False) :\n",
    "    \n",
    "    # scale numeric features\n",
    "    #if scale == True :\n",
    "        #tranform numeric data using num_scaler\n",
    "        #data[num_cols] = num_scaler.transform(data[num_cols])\n",
    "    \n",
    "    # dummify categorical features\n",
    "    \n",
    "    #data = pd.get_dummies(data, drop_first = False)\n",
    "\n",
    "    #return data"
   ]
  },
  {
   "cell_type": "code",
   "execution_count": 0,
   "metadata": {
    "colab": {},
    "colab_type": "code",
    "id": "TurJONZUXURZ"
   },
   "outputs": [],
   "source": [
    "from sklearn.preprocessing import LabelEncoder\n",
    "from collections import defaultdict\n",
    "\n",
    "encoder = defaultdict(LabelEncoder)\n",
    "\n",
    "# Encoding the categorical features on full data\n",
    "cat_encoder = weather_train_farm.apply(lambda x: encoder[x.name].fit_transform(x))\n",
    "\n"
   ]
  },
  {
   "cell_type": "code",
   "execution_count": 0,
   "metadata": {
    "colab": {},
    "colab_type": "code",
    "id": "KJN5PN9oR3Vd"
   },
   "outputs": [],
   "source": [
    "from sklearn.model_selection import GridSearchCV\n",
    "\n",
    "def model_building(X, y, test, model, params = None, k = 1) :\n",
    "    \n",
    "    if params == None :\n",
    "        \n",
    "        ## Fit model \n",
    "        model.fit(X, y)\n",
    "        \n",
    "        # return fitted model & train-test predictions\n",
    "        return (model, model.predict(X), model.predict(test))\n",
    "    \n",
    "    else :\n",
    "        \n",
    "        model_cv = GridSearchCV(model, param_grid = params, cv = k)\n",
    "        \n",
    "        ## Fit model_cv using \n",
    "        model_cv.fit(X, y)\n",
    "        \n",
    "        ## check best estimator \n",
    "        model = model_cv.best_estimator_\n",
    "        \n",
    "        print(model_cv.best_estimator_)\n",
    "        # return and extra object for all cross validation operations\n",
    "        return (model_cv, model, model.predict(X), model.predict(test))"
   ]
  },
  {
   "cell_type": "code",
   "execution_count": 0,
   "metadata": {
    "colab": {},
    "colab_type": "code",
    "id": "qbkp3pfaR3T6"
   },
   "outputs": [],
   "source": [
    "from sklearn.metrics import mean_absolute_error, mean_squared_error\n",
    "from math import sqrt\n",
    "\n",
    "def model_evaluation(y_train, pred_train, y_test, pred_test) :\n",
    "    \n",
    "    print('''\n",
    "            =========================================\n",
    "               RMSE FOR TRAIN DATA\n",
    "            =========================================''')\n",
    "    print(\"\\nRoot Mean Squared Error : \", sqrt(mean_squared_error(y_train, pred_train)))\n",
    "    \n",
    "    print('''\n",
    "            =========================================\n",
    "               RMSE FOR TEST DATA\n",
    "            =========================================''')\n",
    "    print(\"\\nMean Squared Error : \", sqrt(mean_squared_error(y_test, pred_test)))"
   ]
  },
  {
   "cell_type": "code",
   "execution_count": 0,
   "metadata": {
    "colab": {
     "base_uri": "https://localhost:8080/",
     "height": 50
    },
    "colab_type": "code",
    "id": "FY5jv40nR3Qr",
    "outputId": "180470ee-445d-4a06-bcff-ab35dd6a58d7"
   },
   "outputs": [
    {
     "name": "stdout",
     "output_type": "stream",
     "text": [
      "(16409225, 11)\n",
      "(4102307, 11)\n"
     ]
    }
   ],
   "source": [
    "## Use prepare_data and get X_train, X_test, y_train, y_test where split size = 0.2\n",
    "\n",
    "X_train, X_test, y_train, y_test = prepare_data(X, y, 0.2)"
   ]
  },
  {
   "cell_type": "code",
   "execution_count": 0,
   "metadata": {
    "colab": {
     "base_uri": "https://localhost:8080/",
     "height": 118
    },
    "colab_type": "code",
    "id": "IIAk0JcBY7Te",
    "outputId": "4c3bad77-fbf2-40bb-8d29-46c34cebc257"
   },
   "outputs": [
    {
     "name": "stderr",
     "output_type": "stream",
     "text": [
      "/usr/local/lib/python3.6/dist-packages/pandas/core/frame.py:3509: SettingWithCopyWarning: \n",
      "A value is trying to be set on a copy of a slice from a DataFrame.\n",
      "Try using .loc[row_indexer,col_indexer] = value instead\n",
      "\n",
      "See the caveats in the documentation: http://pandas.pydata.org/pandas-docs/stable/user_guide/indexing.html#returning-a-view-versus-a-copy\n",
      "  self[k1] = value[k2]\n"
     ]
    }
   ],
   "source": [
    "# Transfrom the train & test splits\n",
    "X_train[cat_cols] = X_train[cat_cols].apply(lambda x: encoder[x.name].transform(x))\n",
    "X_test[cat_cols] = X_test[cat_cols].apply(lambda x: encoder[x.name].transform(x))\n"
   ]
  },
  {
   "cell_type": "code",
   "execution_count": 0,
   "metadata": {
    "colab": {
     "base_uri": "https://localhost:8080/",
     "height": 218
    },
    "colab_type": "code",
    "id": "EUtmuKNDl05w",
    "outputId": "b0661fb4-f288-424c-beef-1e0ee6f5a616"
   },
   "outputs": [
    {
     "data": {
      "text/plain": [
       "farm_id                    int64\n",
       "ingredient_type            int64\n",
       "farm_area                float64\n",
       "deidentified_location      int64\n",
       "temp_obs                 float64\n",
       "cloudiness               float64\n",
       "wind_direction           float64\n",
       "dew_temp                 float64\n",
       "pressure_sea_level       float64\n",
       "precipitation            float64\n",
       "wind_speed               float64\n",
       "dtype: object"
      ]
     },
     "execution_count": 51,
     "metadata": {
      "tags": []
     },
     "output_type": "execute_result"
    }
   ],
   "source": [
    "X_train.dtypes"
   ]
  },
  {
   "cell_type": "code",
   "execution_count": 0,
   "metadata": {
    "colab": {},
    "colab_type": "code",
    "id": "gcxnw97gvxHg"
   },
   "outputs": [],
   "source": [
    "X_train_nsc = X_train\n",
    "X_test_nsc = X_test"
   ]
  },
  {
   "cell_type": "code",
   "execution_count": 0,
   "metadata": {
    "colab": {
     "base_uri": "https://localhost:8080/",
     "height": 218
    },
    "colab_type": "code",
    "id": "nMyBMfhIFpEU",
    "outputId": "992c8e2d-c4fc-4f27-d488-28924a7b3ab8"
   },
   "outputs": [
    {
     "name": "stdout",
     "output_type": "stream",
     "text": [
      "\n",
      "            =========================================\n",
      "               RMSE FOR TRAIN DATA\n",
      "            =========================================\n",
      "\n",
      "Root Mean Squared Error :  126026.44004289542\n",
      "\n",
      "            =========================================\n",
      "               RMSE FOR TEST DATA\n",
      "            =========================================\n",
      "\n",
      "Mean Squared Error :  124057.17524469267\n"
     ]
    }
   ],
   "source": [
    "from sklearn.ensemble import AdaBoostRegressor\n",
    "\n",
    "estimator = AdaBoostRegressor()\n",
    "model, pred_train, pred_test = model_building(X_train_nsc,y_train,X_test_nsc,estimator)\n",
    "model_evaluation(y_train, pred_train, y_test, pred_test)"
   ]
  },
  {
   "cell_type": "code",
   "execution_count": 0,
   "metadata": {
    "colab": {},
    "colab_type": "code",
    "id": "FcmPX-OGvgbi"
   },
   "outputs": [],
   "source": [
    "#model_evaluation(y_train, pred_train, y_test, pred_test)"
   ]
  },
  {
   "cell_type": "code",
   "execution_count": 0,
   "metadata": {
    "colab": {},
    "colab_type": "code",
    "id": "B8F2PleNFpCL"
   },
   "outputs": [],
   "source": [
    "ts= pd.read_csv('/content/drive/My Drive/Colab Notebooks/PHD/test_data.csv')"
   ]
  },
  {
   "cell_type": "code",
   "execution_count": 0,
   "metadata": {
    "colab": {},
    "colab_type": "code",
    "id": "NtF_9m0-Fo-w"
   },
   "outputs": [],
   "source": [
    "fr = pd.read_csv('/content/drive/My Drive/Colab Notebooks/PHD/farm_data.csv')"
   ]
  },
  {
   "cell_type": "code",
   "execution_count": 0,
   "metadata": {
    "colab": {},
    "colab_type": "code",
    "id": "NMjioGoFbEE2"
   },
   "outputs": [],
   "source": [
    "test_farm = pd.merge(ts,fr,on='farm_id')"
   ]
  },
  {
   "cell_type": "code",
   "execution_count": 0,
   "metadata": {
    "colab": {},
    "colab_type": "code",
    "id": "TtbJTEzobEBA"
   },
   "outputs": [],
   "source": [
    "test_farm.drop('operations_commencing_year',axis=1,inplace=True)"
   ]
  },
  {
   "cell_type": "code",
   "execution_count": 0,
   "metadata": {
    "colab": {},
    "colab_type": "code",
    "id": "ln72wp_sbD-z"
   },
   "outputs": [],
   "source": [
    "test_farm.drop('num_processing_plants',axis=1,inplace=True)"
   ]
  },
  {
   "cell_type": "code",
   "execution_count": 0,
   "metadata": {
    "colab": {},
    "colab_type": "code",
    "id": "jzrGHfxfkIIX"
   },
   "outputs": [],
   "source": [
    "test_farm.drop('farming_company',axis=1,inplace=True)"
   ]
  },
  {
   "cell_type": "code",
   "execution_count": 0,
   "metadata": {
    "colab": {
     "base_uri": "https://localhost:8080/",
     "height": 134
    },
    "colab_type": "code",
    "id": "wK1hz-tDbD78",
    "outputId": "f83a01ea-354a-4d87-fd26-e13b7c190fd9"
   },
   "outputs": [
    {
     "data": {
      "text/plain": [
       "date                     0\n",
       "farm_id                  0\n",
       "ingredient_type          0\n",
       "id                       0\n",
       "farm_area                0\n",
       "deidentified_location    0\n",
       "dtype: int64"
      ]
     },
     "execution_count": 63,
     "metadata": {
      "tags": []
     },
     "output_type": "execute_result"
    }
   ],
   "source": [
    "test_farm.isnull().sum()"
   ]
  },
  {
   "cell_type": "code",
   "execution_count": 0,
   "metadata": {
    "colab": {},
    "colab_type": "code",
    "id": "r-iMWu9wbD6S"
   },
   "outputs": [],
   "source": [
    "weather1 = pd.read_csv('/content/drive/My Drive/Colab Notebooks/PHD/test_weather.csv')"
   ]
  },
  {
   "cell_type": "code",
   "execution_count": 0,
   "metadata": {
    "colab": {},
    "colab_type": "code",
    "id": "lRaYNwzqbD25"
   },
   "outputs": [],
   "source": [
    "from datetime import datetime"
   ]
  },
  {
   "cell_type": "code",
   "execution_count": 0,
   "metadata": {
    "colab": {},
    "colab_type": "code",
    "id": "UARbK4IOcS0T"
   },
   "outputs": [],
   "source": [
    "weather1.rename(columns={'timestamp':'date'},inplace=True)"
   ]
  },
  {
   "cell_type": "code",
   "execution_count": 0,
   "metadata": {
    "colab": {
     "base_uri": "https://localhost:8080/",
     "height": 185
    },
    "colab_type": "code",
    "id": "4B3HcUiicSy5",
    "outputId": "b81ebb92-8dfb-409b-e5c1-5f18f58a8835"
   },
   "outputs": [
    {
     "data": {
      "text/plain": [
       "date                         0\n",
       "deidentified_location        0\n",
       "temp_obs                    43\n",
       "cloudiness               69065\n",
       "wind_direction            6134\n",
       "dew_temp                   184\n",
       "pressure_sea_level       10883\n",
       "precipitation            47788\n",
       "wind_speed                 240\n",
       "dtype: int64"
      ]
     },
     "execution_count": 67,
     "metadata": {
      "tags": []
     },
     "output_type": "execute_result"
    }
   ],
   "source": [
    "weather1.isnull().sum()"
   ]
  },
  {
   "cell_type": "code",
   "execution_count": 0,
   "metadata": {
    "colab": {},
    "colab_type": "code",
    "id": "IY5UuWEUcSxl"
   },
   "outputs": [],
   "source": [
    "weather1.fillna(weather.median(),inplace=True)"
   ]
  },
  {
   "cell_type": "code",
   "execution_count": 0,
   "metadata": {
    "colab": {
     "base_uri": "https://localhost:8080/",
     "height": 185
    },
    "colab_type": "code",
    "id": "6ZK3ekYEcSwT",
    "outputId": "cacdc67c-6dd5-4ef2-f219-222c3b984291"
   },
   "outputs": [
    {
     "data": {
      "text/plain": [
       "date                     0\n",
       "deidentified_location    0\n",
       "temp_obs                 0\n",
       "cloudiness               0\n",
       "wind_direction           0\n",
       "dew_temp                 0\n",
       "pressure_sea_level       0\n",
       "precipitation            0\n",
       "wind_speed               0\n",
       "dtype: int64"
      ]
     },
     "execution_count": 69,
     "metadata": {
      "tags": []
     },
     "output_type": "execute_result"
    }
   ],
   "source": [
    "weather1.isnull().sum()"
   ]
  },
  {
   "cell_type": "code",
   "execution_count": 0,
   "metadata": {
    "colab": {},
    "colab_type": "code",
    "id": "TaOgTxLgcSuv"
   },
   "outputs": [],
   "source": [
    "weather1_test_farm = pd.merge(test_farm,weather1, on=['deidentified_location','date'])"
   ]
  },
  {
   "cell_type": "code",
   "execution_count": 0,
   "metadata": {
    "colab": {
     "base_uri": "https://localhost:8080/",
     "height": 252
    },
    "colab_type": "code",
    "id": "f9JNETRycSs6",
    "outputId": "1bbd693b-6c0e-4a6d-bf28-4e80001c920f"
   },
   "outputs": [
    {
     "data": {
      "text/plain": [
       "date                      object\n",
       "farm_id                   object\n",
       "ingredient_type           object\n",
       "id                         int64\n",
       "farm_area                float64\n",
       "deidentified_location     object\n",
       "temp_obs                 float64\n",
       "cloudiness               float64\n",
       "wind_direction           float64\n",
       "dew_temp                 float64\n",
       "pressure_sea_level       float64\n",
       "precipitation            float64\n",
       "wind_speed               float64\n",
       "dtype: object"
      ]
     },
     "execution_count": 71,
     "metadata": {
      "tags": []
     },
     "output_type": "execute_result"
    }
   ],
   "source": [
    "weather1_test_farm.dtypes"
   ]
  },
  {
   "cell_type": "code",
   "execution_count": 0,
   "metadata": {
    "colab": {},
    "colab_type": "code",
    "id": "9-DnWracgT0a"
   },
   "outputs": [],
   "source": [
    "weather1_test_farm.set_index('date', inplace=True)"
   ]
  },
  {
   "cell_type": "code",
   "execution_count": 0,
   "metadata": {
    "colab": {
     "base_uri": "https://localhost:8080/",
     "height": 67
    },
    "colab_type": "code",
    "id": "ojKwKT72cSje",
    "outputId": "9ce16d66-18e6-4e86-c203-9a00c20a260a"
   },
   "outputs": [
    {
     "data": {
      "text/plain": [
       "Index(['id', 'farm_area', 'temp_obs', 'cloudiness', 'wind_direction',\n",
       "       'dew_temp', 'pressure_sea_level', 'precipitation', 'wind_speed'],\n",
       "      dtype='object')"
      ]
     },
     "execution_count": 73,
     "metadata": {
      "tags": []
     },
     "output_type": "execute_result"
    }
   ],
   "source": [
    "cat_cols = ['farm_id', 'deidentified_location', 'ingredient_type']\n",
    "\n",
    "  # create a list for all numerical column names\n",
    " \n",
    "num_cols = weather1_test_farm.columns[~weather1_test_farm.columns.isin(cat_cols)]\n",
    " \n",
    "num_cols"
   ]
  },
  {
   "cell_type": "code",
   "execution_count": 0,
   "metadata": {
    "colab": {},
    "colab_type": "code",
    "id": "SgAnf74-cSgI"
   },
   "outputs": [],
   "source": [
    "weather1_test_farm[cat_cols] = weather1_test_farm[cat_cols].apply(lambda x : x.astype('category'))"
   ]
  },
  {
   "cell_type": "code",
   "execution_count": 0,
   "metadata": {
    "colab": {},
    "colab_type": "code",
    "id": "xU1MkXTyns7q"
   },
   "outputs": [],
   "source": [
    "weather1_test_farm[cat_cols] = weather1_test_farm[cat_cols].apply(lambda x: encoder[x.name].transform(x))"
   ]
  },
  {
   "cell_type": "code",
   "execution_count": 0,
   "metadata": {
    "colab": {
     "base_uri": "https://localhost:8080/",
     "height": 118
    },
    "colab_type": "code",
    "id": "6S9JasHFcSdU",
    "outputId": "a044bdf0-ee96-4c39-a42f-f60c460a8b68"
   },
   "outputs": [
    {
     "name": "stdout",
     "output_type": "stream",
     "text": [
      "farm_id ----->> [ 142 1307  376 ...  167  940  223] \n",
      "\n",
      "deidentified_location ----->> [12 10 15  6  1  4  9  8  3 11  7  2 13  5  0 14] \n",
      "\n",
      "ingredient_type ----->> [0 1 2 3] \n",
      "\n"
     ]
    }
   ],
   "source": [
    "for x in cat_cols :\n",
    "    print(x, '----->>', weather1_test_farm[x].unique(), '\\n')"
   ]
  },
  {
   "cell_type": "code",
   "execution_count": 0,
   "metadata": {
    "colab": {
     "base_uri": "https://localhost:8080/",
     "height": 235
    },
    "colab_type": "code",
    "id": "I70UefRTcSaz",
    "outputId": "349ce85a-e0e9-48b7-843a-3cf00f9d4e1b"
   },
   "outputs": [
    {
     "data": {
      "text/plain": [
       "farm_id                    int64\n",
       "ingredient_type            int64\n",
       "id                         int64\n",
       "farm_area                float64\n",
       "deidentified_location      int64\n",
       "temp_obs                 float64\n",
       "cloudiness               float64\n",
       "wind_direction           float64\n",
       "dew_temp                 float64\n",
       "pressure_sea_level       float64\n",
       "precipitation            float64\n",
       "wind_speed               float64\n",
       "dtype: object"
      ]
     },
     "execution_count": 77,
     "metadata": {
      "tags": []
     },
     "output_type": "execute_result"
    }
   ],
   "source": [
    "weather1_test_farm.dtypes"
   ]
  },
  {
   "cell_type": "code",
   "execution_count": 0,
   "metadata": {
    "colab": {
     "base_uri": "https://localhost:8080/",
     "height": 235
    },
    "colab_type": "code",
    "id": "aLrXIreebDXS",
    "outputId": "17ae0a10-5370-465e-d280-76dbd6871606"
   },
   "outputs": [
    {
     "data": {
      "text/plain": [
       "farm_id                  0\n",
       "ingredient_type          0\n",
       "id                       0\n",
       "farm_area                0\n",
       "deidentified_location    0\n",
       "temp_obs                 0\n",
       "cloudiness               0\n",
       "wind_direction           0\n",
       "dew_temp                 0\n",
       "pressure_sea_level       0\n",
       "precipitation            0\n",
       "wind_speed               0\n",
       "dtype: int64"
      ]
     },
     "execution_count": 78,
     "metadata": {
      "tags": []
     },
     "output_type": "execute_result"
    }
   ],
   "source": [
    "weather1_test_farm.isnull().sum()"
   ]
  },
  {
   "cell_type": "code",
   "execution_count": 0,
   "metadata": {
    "colab": {},
    "colab_type": "code",
    "id": "TKbovlIqh1xP"
   },
   "outputs": [],
   "source": [
    "weather1_test_farm.drop('id',axis=1,inplace=True)"
   ]
  },
  {
   "cell_type": "code",
   "execution_count": 0,
   "metadata": {
    "colab": {
     "base_uri": "https://localhost:8080/",
     "height": 218
    },
    "colab_type": "code",
    "id": "g-nypSABk9tN",
    "outputId": "a71614f6-56d7-40ca-b374-9be601afa3f5"
   },
   "outputs": [
    {
     "data": {
      "text/plain": [
       "farm_id                    int64\n",
       "ingredient_type            int64\n",
       "farm_area                float64\n",
       "deidentified_location      int64\n",
       "temp_obs                 float64\n",
       "cloudiness               float64\n",
       "wind_direction           float64\n",
       "dew_temp                 float64\n",
       "pressure_sea_level       float64\n",
       "precipitation            float64\n",
       "wind_speed               float64\n",
       "dtype: object"
      ]
     },
     "execution_count": 80,
     "metadata": {
      "tags": []
     },
     "output_type": "execute_result"
    }
   ],
   "source": [
    "weather1_test_farm.dtypes"
   ]
  },
  {
   "cell_type": "code",
   "execution_count": 0,
   "metadata": {
    "colab": {
     "base_uri": "https://localhost:8080/",
     "height": 218
    },
    "colab_type": "code",
    "id": "d_xzUxF1lHQz",
    "outputId": "fabcc194-c9a7-4fef-95ce-07717965ca4b"
   },
   "outputs": [
    {
     "data": {
      "text/plain": [
       "farm_id                    int64\n",
       "ingredient_type            int64\n",
       "farm_area                float64\n",
       "deidentified_location      int64\n",
       "temp_obs                 float64\n",
       "cloudiness               float64\n",
       "wind_direction           float64\n",
       "dew_temp                 float64\n",
       "pressure_sea_level       float64\n",
       "precipitation            float64\n",
       "wind_speed               float64\n",
       "dtype: object"
      ]
     },
     "execution_count": 81,
     "metadata": {
      "tags": []
     },
     "output_type": "execute_result"
    }
   ],
   "source": [
    "X_train.dtypes"
   ]
  },
  {
   "cell_type": "code",
   "execution_count": 0,
   "metadata": {
    "colab": {},
    "colab_type": "code",
    "id": "QyVABrTHggrD"
   },
   "outputs": [],
   "source": [
    "omkar=model.predict(weather1_test_farm)"
   ]
  },
  {
   "cell_type": "code",
   "execution_count": 0,
   "metadata": {
    "colab": {},
    "colab_type": "code",
    "id": "StbXmC9Xggn1"
   },
   "outputs": [],
   "source": [
    "omkar=pd.DataFrame(omkar,columns=['yield'])"
   ]
  },
  {
   "cell_type": "code",
   "execution_count": 0,
   "metadata": {
    "colab": {},
    "colab_type": "code",
    "id": "9RYTwWFIggl-"
   },
   "outputs": [],
   "source": [
    "omkar.to_csv('/content/drive/My Drive/Colab Notebooks/PHD/submissionfinal123adaboost.csv')"
   ]
  }
 ],
 "metadata": {
  "accelerator": "GPU",
  "colab": {
   "collapsed_sections": [],
   "machine_shape": "hm",
   "name": "**final ada boost file submission ",
   "provenance": [],
   "toc_visible": true
  },
  "kernelspec": {
   "display_name": "Python 3",
   "language": "python",
   "name": "python3"
  },
  "language_info": {
   "codemirror_mode": {
    "name": "ipython",
    "version": 3
   },
   "file_extension": ".py",
   "mimetype": "text/x-python",
   "name": "python",
   "nbconvert_exporter": "python",
   "pygments_lexer": "ipython3",
   "version": "3.7.3"
  }
 },
 "nbformat": 4,
 "nbformat_minor": 1
}
